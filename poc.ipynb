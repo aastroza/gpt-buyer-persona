{
 "cells": [
  {
   "cell_type": "code",
   "execution_count": 1,
   "metadata": {},
   "outputs": [],
   "source": [
    "from simpleaichat import AIChat\n",
    "import pandas as pd\n",
    "import textwrap"
   ]
  },
  {
   "cell_type": "code",
   "execution_count": 2,
   "metadata": {},
   "outputs": [
    {
     "data": {
      "text/html": [
       "<div>\n",
       "<style scoped>\n",
       "    .dataframe tbody tr th:only-of-type {\n",
       "        vertical-align: middle;\n",
       "    }\n",
       "\n",
       "    .dataframe tbody tr th {\n",
       "        vertical-align: top;\n",
       "    }\n",
       "\n",
       "    .dataframe thead th {\n",
       "        text-align: right;\n",
       "    }\n",
       "</style>\n",
       "<table border=\"1\" class=\"dataframe\">\n",
       "  <thead>\n",
       "    <tr style=\"text-align: right;\">\n",
       "      <th></th>\n",
       "      <th>comunidad</th>\n",
       "      <th>rubro</th>\n",
       "      <th>media_global</th>\n",
       "      <th>media_comunidad</th>\n",
       "      <th>t_score</th>\n",
       "      <th>p_value</th>\n",
       "    </tr>\n",
       "  </thead>\n",
       "  <tbody>\n",
       "    <tr>\n",
       "      <th>0</th>\n",
       "      <td>C0</td>\n",
       "      <td>Agrupaciones sociales y profesionales</td>\n",
       "      <td>0.212229</td>\n",
       "      <td>0.336157</td>\n",
       "      <td>6.844169</td>\n",
       "      <td>8.111435e-12</td>\n",
       "    </tr>\n",
       "    <tr>\n",
       "      <th>1</th>\n",
       "      <td>C0</td>\n",
       "      <td>Alcohol y Entretenimiento</td>\n",
       "      <td>1.761468</td>\n",
       "      <td>3.025880</td>\n",
       "      <td>18.837505</td>\n",
       "      <td>6.655561e-78</td>\n",
       "    </tr>\n",
       "    <tr>\n",
       "      <th>2</th>\n",
       "      <td>C0</td>\n",
       "      <td>Alimentacion</td>\n",
       "      <td>31.933285</td>\n",
       "      <td>38.555297</td>\n",
       "      <td>20.317356</td>\n",
       "      <td>4.400288e-90</td>\n",
       "    </tr>\n",
       "    <tr>\n",
       "      <th>3</th>\n",
       "      <td>C0</td>\n",
       "      <td>Animales y Mascotas</td>\n",
       "      <td>0.782158</td>\n",
       "      <td>0.998045</td>\n",
       "      <td>8.907787</td>\n",
       "      <td>6.045562e-19</td>\n",
       "    </tr>\n",
       "    <tr>\n",
       "      <th>4</th>\n",
       "      <td>C0</td>\n",
       "      <td>Artes y Hobbies</td>\n",
       "      <td>0.998173</td>\n",
       "      <td>1.340160</td>\n",
       "      <td>13.985100</td>\n",
       "      <td>4.674301e-44</td>\n",
       "    </tr>\n",
       "  </tbody>\n",
       "</table>\n",
       "</div>"
      ],
      "text/plain": [
       "  comunidad                                  rubro  media_global  \\\n",
       "0        C0  Agrupaciones sociales y profesionales      0.212229   \n",
       "1        C0              Alcohol y Entretenimiento      1.761468   \n",
       "2        C0                           Alimentacion     31.933285   \n",
       "3        C0                    Animales y Mascotas      0.782158   \n",
       "4        C0                        Artes y Hobbies      0.998173   \n",
       "\n",
       "   media_comunidad    t_score       p_value  \n",
       "0         0.336157   6.844169  8.111435e-12  \n",
       "1         3.025880  18.837505  6.655561e-78  \n",
       "2        38.555297  20.317356  4.400288e-90  \n",
       "3         0.998045   8.907787  6.045562e-19  \n",
       "4         1.340160  13.985100  4.674301e-44  "
      ]
     },
     "execution_count": 2,
     "metadata": {},
     "output_type": "execute_result"
    }
   ],
   "source": [
    "df = pd.read_csv('MACONLINE_rubros_prueba_T.csv')\n",
    "df.head()"
   ]
  },
  {
   "cell_type": "code",
   "execution_count": 3,
   "metadata": {},
   "outputs": [
    {
     "data": {
      "text/plain": [
       "['Agrupaciones sociales y profesionales',\n",
       " 'Alcohol y Entretenimiento',\n",
       " 'Alimentacion',\n",
       " 'Animales y Mascotas',\n",
       " 'Artes y Hobbies',\n",
       " 'Articulos Electronicos',\n",
       " 'Articulos de oficina',\n",
       " 'Articulos electronicos',\n",
       " 'Articulos y servicios del hogar',\n",
       " 'Automotriz',\n",
       " 'Belleza y Cuidado Personal',\n",
       " 'Compras y Retail',\n",
       " 'Construccion y grandes obras',\n",
       " 'Cultura y Entretenimiento',\n",
       " 'Deportes y Actividades Fisicas',\n",
       " 'Educación',\n",
       " 'Gastronomía',\n",
       " 'Inmobiliarios',\n",
       " 'Instituciones financieras y legales',\n",
       " 'Jardinería y Naturaleza',\n",
       " 'Juegos de azar',\n",
       " 'Maternidad',\n",
       " 'Salud y Bienestar',\n",
       " 'Servicios Basicos',\n",
       " 'Tercera edad',\n",
       " 'Tiendas de conveniencia',\n",
       " 'Transporte',\n",
       " 'Turismo y Viajes',\n",
       " 'Vestuario y Calzado']"
      ]
     },
     "execution_count": 3,
     "metadata": {},
     "output_type": "execute_result"
    }
   ],
   "source": [
    "lifestyles = list(df['rubro'].unique())\n",
    "lifestyles"
   ]
  },
  {
   "cell_type": "code",
   "execution_count": 4,
   "metadata": {},
   "outputs": [
    {
     "data": {
      "text/plain": [
       "['C0', 'C99', 'C2', 'C1']"
      ]
     },
     "execution_count": 4,
     "metadata": {},
     "output_type": "execute_result"
    }
   ],
   "source": [
    "communities = list(df['comunidad'].unique())\n",
    "communities"
   ]
  },
  {
   "cell_type": "code",
   "execution_count": 5,
   "metadata": {},
   "outputs": [],
   "source": [
    "result = []\n",
    "\n",
    "for community in communities:\n",
    "    df_community = df[df['comunidad'] == community].sort_values(by=['t_score'], ascending=False)\n",
    "    top_lifestyles = list(df_community['rubro'])[:3]\n",
    "    bottom_lifestyles = list(df_community['rubro'])[-3:]\n",
    "\n",
    "    result.append([community, top_lifestyles, bottom_lifestyles])\n",
    "    "
   ]
  },
  {
   "cell_type": "code",
   "execution_count": 6,
   "metadata": {},
   "outputs": [
    {
     "data": {
      "text/html": [
       "<div>\n",
       "<style scoped>\n",
       "    .dataframe tbody tr th:only-of-type {\n",
       "        vertical-align: middle;\n",
       "    }\n",
       "\n",
       "    .dataframe tbody tr th {\n",
       "        vertical-align: top;\n",
       "    }\n",
       "\n",
       "    .dataframe thead th {\n",
       "        text-align: right;\n",
       "    }\n",
       "</style>\n",
       "<table border=\"1\" class=\"dataframe\">\n",
       "  <thead>\n",
       "    <tr style=\"text-align: right;\">\n",
       "      <th></th>\n",
       "      <th>community</th>\n",
       "      <th>top_lifestyles</th>\n",
       "      <th>bottom_lifestyles</th>\n",
       "    </tr>\n",
       "  </thead>\n",
       "  <tbody>\n",
       "    <tr>\n",
       "      <th>0</th>\n",
       "      <td>C0</td>\n",
       "      <td>[Gastronomía, Transporte, Automotriz]</td>\n",
       "      <td>[Jardinería y Naturaleza, Tercera edad, Matern...</td>\n",
       "    </tr>\n",
       "    <tr>\n",
       "      <th>1</th>\n",
       "      <td>C99</td>\n",
       "      <td>[Tercera edad, Educación, Articulos electronicos]</td>\n",
       "      <td>[Transporte, Gastronomía, Alimentacion]</td>\n",
       "    </tr>\n",
       "    <tr>\n",
       "      <th>2</th>\n",
       "      <td>C2</td>\n",
       "      <td>[Salud y Bienestar, Vestuario y Calzado, Compr...</td>\n",
       "      <td>[Tiendas de conveniencia, Gastronomía, Alcohol...</td>\n",
       "    </tr>\n",
       "    <tr>\n",
       "      <th>3</th>\n",
       "      <td>C1</td>\n",
       "      <td>[Alimentacion, Alcohol y Entretenimiento, Auto...</td>\n",
       "      <td>[Juegos de azar, Vestuario y Calzado, Turismo ...</td>\n",
       "    </tr>\n",
       "  </tbody>\n",
       "</table>\n",
       "</div>"
      ],
      "text/plain": [
       "  community                                     top_lifestyles  \\\n",
       "0        C0              [Gastronomía, Transporte, Automotriz]   \n",
       "1       C99  [Tercera edad, Educación, Articulos electronicos]   \n",
       "2        C2  [Salud y Bienestar, Vestuario y Calzado, Compr...   \n",
       "3        C1  [Alimentacion, Alcohol y Entretenimiento, Auto...   \n",
       "\n",
       "                                   bottom_lifestyles  \n",
       "0  [Jardinería y Naturaleza, Tercera edad, Matern...  \n",
       "1            [Transporte, Gastronomía, Alimentacion]  \n",
       "2  [Tiendas de conveniencia, Gastronomía, Alcohol...  \n",
       "3  [Juegos de azar, Vestuario y Calzado, Turismo ...  "
      ]
     },
     "execution_count": 6,
     "metadata": {},
     "output_type": "execute_result"
    }
   ],
   "source": [
    "df_result = pd.DataFrame(result, columns=['community', 'top_lifestyles', 'bottom_lifestyles'])\n",
    "df_result"
   ]
  },
  {
   "cell_type": "code",
   "execution_count": 7,
   "metadata": {},
   "outputs": [],
   "source": [
    "from pydantic import BaseModel, Field\n",
    "\n",
    "def get_buyer_persona(response):\n",
    "    ai_persona = AIChat(\n",
    "        console=False,\n",
    "        save_messages=False,  # with schema I/O, messages are never saved\n",
    "        model=\"gpt-4\",\n",
    "        params={\"temperature\": 0.0},\n",
    "    )\n",
    "\n",
    "    class get_persona_metadata(BaseModel):\n",
    "        \"\"\"Event information\"\"\"\n",
    "\n",
    "        name: str = Field(description=\"Full name of the person\")\n",
    "        age: str = Field(description=\"Age of the buyer persona\")\n",
    "        ocuppation: str = Field(description=\"Ocuppation of the buyer persona\")\n",
    "        description: str = Field(description=\"Summarized description of the buyer persona\")\n",
    "        pains: str = Field(description=\"Pains points of the buyer persona\")\n",
    "        buying_motivations: str = Field(description=\"Buying motivations of the buyer persona\")\n",
    "        buying_list: str = Field(description=\"Example shopping list of the buyer persona\")\n",
    "\n",
    "    # returns a dict, with keys ordered as in the schema\n",
    "    persona = ai_persona(response, output_schema=get_persona_metadata)\n",
    "\n",
    "    return persona"
   ]
  },
  {
   "cell_type": "code",
   "execution_count": 26,
   "metadata": {},
   "outputs": [],
   "source": [
    "def get_data(top_lifestyles, bottom_lifestyles, gender):\n",
    "    SYSTEM_PROMPT = f\"\"\"\n",
    "                You are a market researcher. You are studying the lifestyles of people in different communities.\n",
    "                You have data about what is the most popular buying habits, including the purchase categories of credit cards transactions. These categories are: {', '.join(lifestyles)}.\n",
    "                \"\"\"\n",
    "    \n",
    "    USER_PROMPT = f\"\"\"\n",
    "                Give information on the demographics of people most likely to buy in these categories (ordered by importance): {', '.join(top_lifestyles)}.\n",
    "                Only give one demographic group that englobes all the categories at once. Don't use gender to describe the group.\n",
    "                Please respond in spanish.\n",
    "            \"\"\"\n",
    "    \n",
    "    ai = AIChat(system=SYSTEM_PROMPT, model=\"gpt-4\")#gpt-3.5-turbo\n",
    "    description = ai(USER_PROMPT)\n",
    "\n",
    "    title = ai(\"Create a simple but catchy name for this demographic group that englobes all the categories at once. Respond in spanish. Only respond with the name of the group.\")\n",
    "\n",
    "    response = ai(f\"Create a detailed buyer persona for this demographic group. Use {gender} gender. Include a full name (first name and last name) Include pains, buying motivations and a example shopping list. Output in markdown format. Respond in spanish.\")\n",
    "\n",
    "    result_dict = get_buyer_persona(response)\n",
    "\n",
    "    #add 'description' and 'title' to 'result_dict'\n",
    "    result_dict['title'] = title\n",
    "    result_dict['community_description'] = description\n",
    "\n",
    "    return result_dict\n",
    "    \n"
   ]
  },
  {
   "cell_type": "markdown",
   "metadata": {},
   "source": [
    "## Comunidad 0"
   ]
  },
  {
   "cell_type": "code",
   "execution_count": 27,
   "metadata": {},
   "outputs": [],
   "source": [
    "top_lifestyles = df_result.iloc[0]['top_lifestyles']\n",
    "bottom_lifestyles = df_result.iloc[0]['bottom_lifestyles']\n",
    "gender = 'female'"
   ]
  },
  {
   "cell_type": "code",
   "execution_count": 28,
   "metadata": {},
   "outputs": [],
   "source": [
    "result_dict  = get_data(top_lifestyles, bottom_lifestyles, gender)\n",
    "\n",
    "result_dict"
   ]
  },
  {
   "cell_type": "code",
   "execution_count": null,
   "metadata": {},
   "outputs": [],
   "source": [
    "# Write 'result_dict' to a txt file\n",
    "with open('comunidad-C0.txt', 'w') as f:\n",
    "    f.write(str(result_dict))"
   ]
  },
  {
   "cell_type": "markdown",
   "metadata": {},
   "source": [
    "## Comunidad 1"
   ]
  },
  {
   "cell_type": "code",
   "execution_count": null,
   "metadata": {},
   "outputs": [],
   "source": [
    "top_lifestyles = df_result.iloc[2]['top_lifestyles']\n",
    "bottom_lifestyles = df_result.iloc[2]['bottom_lifestyles']\n",
    "gender = 'male'"
   ]
  },
  {
   "cell_type": "code",
   "execution_count": null,
   "metadata": {},
   "outputs": [
    {
     "data": {
      "text/plain": [
       "{'name': 'Alejandro Martínez',\n",
       " 'age': '30',\n",
       " 'ocuppation': 'Ingeniero de Software',\n",
       " 'description': 'Alejandro es un ingeniero de software de 30 años que vive en Barcelona, España. Es soltero y tiene un ingreso anual de €60,000. Lucha por equilibrar su ajetreada vida profesional con su deseo de mantener una vida saludable. A menudo tiene poco tiempo para ir de compras, por lo que valora las experiencias de compra eficientes y fiables. A veces se siente abrumado por la cantidad de opciones disponibles en el mercado y busca marcas y productos de confianza.',\n",
       " 'pains': '1. Alejandro lucha por equilibrar su ajetreada vida profesional con su deseo de mantener una vida saludable.\\n2. A menudo tiene poco tiempo para ir de compras, por lo que valora las experiencias de compra eficientes y fiables.\\n3. A veces se siente abrumado por la cantidad de opciones disponibles en el mercado y busca marcas y productos de confianza.',\n",
       " 'buying_motivations': '1. Alejandro valora su salud y bienestar y está dispuesto a invertir en productos y servicios que le ayuden a mantener un estilo de vida saludable.\\n2. Le gusta vestir bien y está dispuesto a pagar más por ropa y calzado de buena calidad y de marca.\\n3. Aprecia la conveniencia de comprar al por menor, tanto en tiendas físicas como online.',\n",
       " 'buying_list': '1. Zapatillas de running de alta gama\\n2. Suplementos de proteínas y vitaminas\\n3. Ropa de trabajo de diseñador\\n4. Comida orgánica y saludable\\n5. Suscripción a un gimnasio premium\\n6. Gadgets y dispositivos electrónicos de última generación\\n7. Muebles de diseño para su apartamento',\n",
       " 'title': '\"Los Consumidores Chic Saludables\"',\n",
       " 'community_description': 'Los jóvenes profesionales urbanos de entre 25 y 35 años, con un nivel de educación universitario y un ingreso medio a alto, son el grupo demográfico que más probablemente realizará compras en las categorías de Salud y Bienestar, Vestuario y Calzado, y Compras y Retail. Este grupo tiende a valorar la calidad y la marca, y está dispuesto a invertir en su salud, apariencia y estilo de vida en general.'}"
      ]
     },
     "execution_count": 22,
     "metadata": {},
     "output_type": "execute_result"
    }
   ],
   "source": [
    "result_dict = get_data(top_lifestyles, bottom_lifestyles, gender)\n",
    "\n",
    "result_dict"
   ]
  },
  {
   "cell_type": "code",
   "execution_count": null,
   "metadata": {},
   "outputs": [],
   "source": [
    "with open('comunidad-C1.txt', 'w') as f:\n",
    "    f.write(str(result_dict))"
   ]
  },
  {
   "cell_type": "markdown",
   "metadata": {},
   "source": [
    "## Comunidad 2"
   ]
  },
  {
   "cell_type": "code",
   "execution_count": null,
   "metadata": {},
   "outputs": [],
   "source": [
    "top_lifestyles = df_result.iloc[3]['top_lifestyles']\n",
    "bottom_lifestyles = df_result.iloc[3]['bottom_lifestyles']\n",
    "gender = 'female'"
   ]
  },
  {
   "cell_type": "code",
   "execution_count": null,
   "metadata": {},
   "outputs": [
    {
     "data": {
      "text/plain": [
       "{'name': 'Laura González',\n",
       " 'age': '28',\n",
       " 'ocuppation': 'Ingeniera',\n",
       " 'description': 'Laura González es una joven profesional de 28 años que vive en el centro de una ciudad grande. Trabaja como ingeniera en una importante empresa de tecnología y tiene un salario decente.',\n",
       " 'pains': 'Laura lleva un estilo de vida ocupado y a menudo lucha por encontrar tiempo para comprar y cocinar. A veces, gasta más de lo que le gustaría en entretenimiento y socialización. Aunque tiene un coche, los gastos de mantenimiento y combustible pueden ser altos y a menudo se pregunta si hay una alternativa más económica y sostenible.',\n",
       " 'buying_motivations': 'Laura valora la comodidad y está dispuesta a pagar más por productos y servicios que le ahorren tiempo. Le gusta socializar y disfrutar de experiencias de entretenimiento de calidad, por lo que a menudo gasta en restaurantes, bares y eventos. Necesita su coche para desplazarse al trabajo y a las actividades sociales, por lo que está dispuesta a invertir en su mantenimiento.',\n",
       " 'buying_list': 'Alimentos frescos y preparados de alta calidad para la semana. Vino y cerveza premium para su próxima reunión con amigos. Entradas para un concierto en un local popular. Servicio de mantenimiento para su coche, incluyendo cambio de aceite y revisión de frenos.',\n",
       " 'title': '\"Los Urbanos Activos\"',\n",
       " 'community_description': 'Los datos sugieren que el grupo demográfico más probable que realiza compras en las categorías de Alimentación, Alcohol y Entretenimiento, y Automotriz sería el de los adultos jóvenes, específicamente aquellos entre las edades de 25 a 34 años. Este grupo, frecuentemente compuesto por profesionales que están en la etapa inicial o intermedia de sus carreras, tiende a tener un mayor gasto en estas categorías. Su estilo de vida activo y social fomenta el gasto en Alimentación y Alcohol y Entretenimiento, mientras que su necesidad de transporte para el trabajo y las actividades sociales impulsa las compras en la categoría Automotriz. Este grupo demográfico también tiene mayor probabilidad de vivir en áreas urbanas, lo cual puede influir en sus hábitos de consumo.'}"
      ]
     },
     "execution_count": 24,
     "metadata": {},
     "output_type": "execute_result"
    }
   ],
   "source": [
    "result_dict = get_data(top_lifestyles, bottom_lifestyles, gender)\n",
    "\n",
    "result_dict"
   ]
  },
  {
   "cell_type": "code",
   "execution_count": null,
   "metadata": {},
   "outputs": [],
   "source": [
    "with open('comunidad-C2.txt', 'w') as f:\n",
    "    f.write(str(result_dict))"
   ]
  },
  {
   "cell_type": "markdown",
   "metadata": {},
   "source": [
    "## Comunidad 4"
   ]
  },
  {
   "cell_type": "code",
   "execution_count": 199,
   "metadata": {},
   "outputs": [],
   "source": [
    "top_lifestyles = df_result.iloc[4]['top_lifestyles']\n",
    "bottom_lifestyles = df_result.iloc[4]['bottom_lifestyles']\n",
    "gender = 'male'"
   ]
  },
  {
   "cell_type": "code",
   "execution_count": 200,
   "metadata": {},
   "outputs": [
    {
     "data": {
      "text/plain": [
       "{'name': 'Juan Martínez',\n",
       " 'age': '30 años',\n",
       " 'ocuppation': 'Profesional en marketing',\n",
       " 'description': 'Juan Martínez es un hombre joven y apasionado por la gastronomía, la alimentación saludable y el cuidado personal. Busca constantemente opciones que le permitan mantener un estilo de vida equilibrado y saludable. Está dispuesto a invertir en productos y servicios que le ayuden a lograr sus objetivos de bienestar. Juan se informa a través de diferentes canales y busca constantemente nuevas experiencias gastronómicas y opciones que se ajusten a sus necesidades de alimentación saludable.',\n",
       " 'pains': '- Dificultad para encontrar opciones de restaurantes y productos que se ajusten a sus necesidades de alimentación saludable.\\n- Estrés y falta de tiempo para planificar y preparar comidas saludables en casa.\\n- Preocupación por mantener un estilo de vida equilibrado y encontrar productos de cuidado personal que sean naturales y de calidad.',\n",
       " 'buying_motivations': '- Busca productos y servicios que le ayuden a mantener una alimentación saludable y equilibrada.\\n- Le interesa probar nuevos restaurantes y experiencias gastronómicas.\\n- Quiere encontrar productos de cuidado personal que sean naturales y respetuosos con el medio ambiente.',\n",
       " 'buying_list': '- Frutas y verduras frescas de temporada\\n- Productos orgánicos y libres de gluten\\n- Suplementos alimenticios y vitaminas\\n- Ingredientes para preparar comidas caseras saludables\\n- Aceites esenciales y productos naturales para el cuidado personal\\n- Reservas en restaurantes de cocina internacional\\n- Equipamiento de cocina de calidad y utensilios para preparar alimentos',\n",
       " 'title': 'Foodie-fit',\n",
       " 'community_description': 'La información demográfica que engloba las categorías de Gastronomía, Alimentación y Salud y Bienestar es la siguiente:\\n\\nGrupo demográfico: Adultos jóvenes de entre 25 y 34 años.\\n\\nEste grupo demográfico tiende a ser activo y preocupado por su bienestar físico y mental. Son personas que valoran la comida saludable, la alimentación equilibrada y la práctica regular de ejercicio. Además, tienen interés por probar nuevos restaurantes y experimentar con diferentes tipos de cocina.\\n\\nTambién se preocupan por su bienestar emocional, por lo que suelen buscar productos y servicios relacionados con el cuidado personal, la relajación y el equilibrio mental.\\n\\nEn resumen, los adultos jóvenes de entre 25 y 34 años son el grupo demográfico más propenso a comprar en las categorías de Gastronomía, Alimentación y Salud y Bienestar.'}"
      ]
     },
     "execution_count": 200,
     "metadata": {},
     "output_type": "execute_result"
    }
   ],
   "source": [
    "result_dict = get_data(top_lifestyles, bottom_lifestyles, gender)\n",
    "\n",
    "result_dict"
   ]
  },
  {
   "cell_type": "code",
   "execution_count": 201,
   "metadata": {},
   "outputs": [],
   "source": [
    "with open('comunidad-4.txt', 'w') as f:\n",
    "    f.write(str(result_dict))"
   ]
  }
 ],
 "metadata": {
  "kernelspec": {
   "display_name": "buyer-persona-communities",
   "language": "python",
   "name": "python3"
  },
  "language_info": {
   "codemirror_mode": {
    "name": "ipython",
    "version": 3
   },
   "file_extension": ".py",
   "mimetype": "text/x-python",
   "name": "python",
   "nbconvert_exporter": "python",
   "pygments_lexer": "ipython3",
   "version": "3.10.12"
  },
  "orig_nbformat": 4
 },
 "nbformat": 4,
 "nbformat_minor": 2
}
